{
 "cells": [
  {
   "cell_type": "markdown",
   "metadata": {},
   "source": [
    "# Question 1\n",
    "What data type does the following have?\n",
    "\n",
    "|    Question     | Answer  |\n",
    "|:---------------:|:-------:|\n",
    "|        5        |  Int32  |\n",
    "|       5.0       | Double  |\n",
    "|       5>1       | Boolean |\n",
    "|       '5'       | String  |\n",
    "|       5*2       |  Int32  |\n",
    "|     '5' + 2     | String  |\n",
    "|    '5' + '2'    | String  |\n",
    "|      5 / 2      |  Int32  |\n",
    "|      5 % 2      | Double  |\n",
    "|    {5, 2, 1}    |  List   |\n",
    "|     5 == 3      | Boolean |\n",
    "| Pi (the number) | Double  |\n"
   ]
  },
  {
   "cell_type": "markdown",
   "metadata": {},
   "source": [
    "# Question 6\n",
    "Write a function pig() that takes a word (i.e., a string) as input and returns its pigLatin\n",
    "form. Your function should still work if the input word contains upper case characters. Your\n",
    "output should always be lower case, however."
   ]
  },
  {
   "cell_type": "code",
   "execution_count": 1,
   "metadata": {},
   "outputs": [
    {
     "name": "stdout",
     "output_type": "stream",
     "text": [
      "appyhay\n",
      "enterway\n"
     ]
    }
   ],
   "source": [
    "def pig(word):\n",
    "    word = word.lower()\n",
    "    vowels = 'aeiou'\n",
    "    if word[0] in vowels:\n",
    "        return word + 'way'\n",
    "    else:\n",
    "        return word[1:] + word[0] + 'ay'\n",
    "\n",
    "\n",
    "print(pig('happy'))\n",
    "print(pig('Enter'))"
   ]
  },
  {
   "cell_type": "markdown",
   "metadata": {},
   "source": [
    "# Question 7\n",
    "File bloodtype1.txt records blood-types of patients (A, B, AB, O or OO) at a clinic.\n",
    "Write a function bldcount() that reads the file with name 'name' and reports (i.e., prints) how\n",
    "many patients there are in each bloodtype"
   ]
  },
  {
   "cell_type": "code",
   "execution_count": 3,
   "metadata": {},
   "outputs": [
    {
     "name": "stdout",
     "output_type": "stream",
     "text": [
      "There are 15 patients of blood type A.\n",
      "There are 1 patients of blood type B.\n",
      "There are 13 patients of blood type AB.\n",
      "There are 15 patients of blood type O.\n",
      "There are 0 patients of blood type OO.\n"
     ]
    }
   ],
   "source": [
    "def bldcount(name):\n",
    "    x = open(name,'r')\n",
    "    words = x.readline()\n",
    "    lst = []\n",
    "    blood_types = ['A','B','AB','O','OO']\n",
    "\n",
    "    lst.append(words.split(\" \"))\n",
    "\n",
    "    for blood_type in blood_types:\n",
    "        print(\"There are {} patients of blood type {}.\".format(lst[0].count(blood_type),blood_type))\n",
    "\n",
    "bldcount('bloodtype1.txt')"
   ]
  },
  {
   "cell_type": "markdown",
   "metadata": {},
   "source": [
    "# Question 8\n",
    "Write a function curconv() that takes as input:\n",
    "\n",
    "1. a currency represented using a string (e.g., 'JPY' for the Japanese Yen or 'EUR' for the Euro)\n",
    "2. an amount\n",
    "\n",
    "and then converts and returns the amount in US dollars."
   ]
  },
  {
   "cell_type": "code",
   "execution_count": 4,
   "metadata": {},
   "outputs": [
    {
     "name": "stdout",
     "output_type": "stream",
     "text": [
      "122.96544\n",
      "1.241401\n"
     ]
    }
   ],
   "source": [
    "def curconv(currency,amount):\n",
    "    currencies = {}\n",
    "\n",
    "    cur_file = open('currencies.txt')\n",
    "    lines = cur_file.readlines()\n",
    "\n",
    "    for x in lines:\n",
    "        currencies[x[:3].strip()] = x[4:].split(\"\\t\")\n",
    "\n",
    "    value = currencies[currency][0].strip()\n",
    "    print(amount * float(value))\n",
    "\n",
    "curconv('EUR',100)\n",
    "curconv('JPY',100)"
   ]
  },
  {
   "cell_type": "markdown",
   "metadata": {},
   "source": [
    "# Question 9\n",
    "Each of the following will cause an exception (an error). Identify what type of exception\n",
    "each will cause.\n",
    "\n",
    "|                                                     Error                                                     |      Error Message       |\n",
    "|:-------------------------------------------------------------------------------------------------------------:|:------------------------:|\n",
    "|                          Trying to add incompatible variables, as in adding 6 + ‘a’                           | No such directory found  |\n",
    "|                          Referring to the 12th item of a list that has only 10 items                          |       Out of index       |\n",
    "|          Using a value that is out of range for a function’s input, such as calling math.sqrt(-1.0)           |       domain error       |\n",
    "|                  Using an undeclared variable, such as print(x) when x has not been defined                   |   variable not defined   |\n",
    "| Trying to open a file that does not exist, such as mistyping the file name or looking in the wrong directory. | No such directory found  |"
   ]
  },
  {
   "cell_type": "markdown",
   "metadata": {},
   "source": [
    "# Question 10\n",
    "Write a function called frequencies() that takes a string as its only parameter, and\n",
    "returns a list of integers, showing the number of times each character appears in the text. Your\n",
    "function may ignore any characters that are not in letters."
   ]
  },
  {
   "cell_type": "code",
   "execution_count": 5,
   "metadata": {},
   "outputs": [
    {
     "data": {
      "text/plain": [
       "[1, 0, 0, 0, 1, 0, 0, 0, 0, 0, 0, 1, 0, 0, 0, 2, 0, 0, 0, 0, 0, 0, 0, 0, 0, 0]"
      ]
     },
     "execution_count": 5,
     "metadata": {},
     "output_type": "execute_result"
    }
   ],
   "source": [
    "def frequencies(text):\n",
    "\n",
    "    letters = 'abcdefghijklmnopqrstuvwxyz'\n",
    "\n",
    "    freq_list = [0] * len(letters)\n",
    "\n",
    "    for char in text:\n",
    "\n",
    "        if char in letters:\n",
    "\n",
    "            index = letters.index(char)\n",
    "\n",
    "            freq_list[index] += 1\n",
    "\n",
    "    return freq_list\n",
    "\n",
    "frequencies('The quick red fox got bored and went home.')\n",
    "frequencies('apple')"
   ]
  }
 ],
 "metadata": {
  "kernelspec": {
   "display_name": "Python 3 (ipykernel)",
   "language": "python",
   "name": "python3"
  },
  "language_info": {
   "codemirror_mode": {
    "name": "ipython",
    "version": 3
   },
   "file_extension": ".py",
   "mimetype": "text/x-python",
   "name": "python",
   "nbconvert_exporter": "python",
   "pygments_lexer": "ipython3",
   "version": "3.9.13"
  }
 },
 "nbformat": 4,
 "nbformat_minor": 1
}
