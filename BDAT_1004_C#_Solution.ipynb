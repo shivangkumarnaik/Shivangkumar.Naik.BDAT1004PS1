{
 "cells": [
  {
   "cell_type": "markdown",
   "id": "16c005b6",
   "metadata": {},
   "source": [
    "# Question 2\n",
    "Write (and evaluate) C# expressions that answer these questions:\n",
    "\n",
    "1. How many letters are there in 'Supercalifragilisticexpialidocious'?"
   ]
  },
  {
   "cell_type": "code",
   "execution_count": 2,
   "id": "e4488061",
   "metadata": {
    "pycharm": {
     "is_executing": true
    }
   },
   "outputs": [
    {
     "name": "stdout",
     "output_type": "stream",
     "text": [
      "No of letters: 34\r\n"
     ]
    }
   ],
   "source": [
    "String word = \"Supercalifragilisticexpialidocious\";\n",
    "Console.WriteLine(\"No of letters: \" + word.Length);"
   ]
  },
  {
   "cell_type": "markdown",
   "id": "ea33cb89",
   "metadata": {},
   "source": [
    "2. Does 'Supercalifragilisticexpialidocious' contain 'ice' as a substring?"
   ]
  },
  {
   "cell_type": "code",
   "execution_count": 2,
   "id": "05e151bb",
   "metadata": {
    "pycharm": {
     "is_executing": true
    }
   },
   "outputs": [
    {
     "name": "stdout",
     "output_type": "stream",
     "text": [
      "Does the Supercalifragilisticexpialidocious contains 'ice' in it? True\r\n"
     ]
    }
   ],
   "source": [
    "String word = \"Supercalifragilisticexpialidocious\";\n",
    "Console.WriteLine(\"Does the \" + word + \" contains 'ice' in it? \" + word.Contains(\"ice\"));"
   ]
  },
  {
   "cell_type": "markdown",
   "id": "248a2e5f",
   "metadata": {},
   "source": [
    "3. Which of the following words is the longest: Supercalifragilisticexpialidocious, Honorificabilitudinitatibus, or Bababadalgharaghtakamminarronnkonn?"
   ]
  },
  {
   "cell_type": "code",
   "execution_count": 5,
   "id": "298d079e",
   "metadata": {
    "pycharm": {
     "is_executing": true
    }
   },
   "outputs": [
    {
     "name": "stdout",
     "output_type": "stream",
     "text": [
      "Answer: The longest word is: Supercalifragilisticexpialidocious\r\n"
     ]
    }
   ],
   "source": [
    " string[] words = new string[] { \"Supercalifragilisticexpialidocious\", \"Honorificabilitudinitatibus\", \"Bababadalgharaghtakamminarronnkonn\" };\n",
    "            string longestWord = \"\";\n",
    "            int longestLength = 0;\n",
    "\n",
    "            foreach (string word in words)\n",
    "            {\n",
    "                if (word.Length > longestLength)\n",
    "                {\n",
    "                    longestLength = word.Length;\n",
    "                    longestWord = word;\n",
    "                }\n",
    "            }\n",
    "\n",
    "            Console.WriteLine(\"Answer: The longest word is: \" + longestWord);"
   ]
  },
  {
   "cell_type": "markdown",
   "id": "cfe09eba",
   "metadata": {},
   "source": [
    "4. Which composer comes first in the dictionary: 'Berlioz', 'Borodin', 'Brian', 'Bartok', 'Bellini', 'Buxtehude', 'Bernstein'. Which one comes last?"
   ]
  },
  {
   "cell_type": "markdown",
   "id": "f9413d35",
   "metadata": {},
   "source": [
    "*Answer*: Alphabetically, the composer that comes first in the list is \"Bartok.\" The composer that comes last is \"Bernstein.\""
   ]
  },
  {
   "cell_type": "markdown",
   "id": "30f32cc7",
   "metadata": {},
   "source": [
    "# Question 3\n",
    "Implement function triangleArea(a,b,c) that takes as input the lengths of the 3 sides of a triangle and returns the area of the triangle. By Heron's formula, the area of a triangle with side lengths a, b, and c is s(s-a)(s-b)(s-c), where s=(a+b+c)/2."
   ]
  },
  {
   "cell_type": "code",
   "execution_count": 6,
   "id": "f452ffaa",
   "metadata": {
    "pycharm": {
     "is_executing": true
    }
   },
   "outputs": [
    {
     "name": "stdout",
     "output_type": "stream",
     "text": [
      "The area of the triangle: 1.7320508075688772\r\n"
     ]
    }
   ],
   "source": [
    "double triangleArea(double a, double b, double c) {\n",
    "    double s = (a + b + c) / 2;\n",
    "    double area = Math.Sqrt(s * (s - a) * (s - b) * (s - c));\n",
    "    return area;\n",
    "}\n",
    "\n",
    "\n",
    "Console.WriteLine(\"The area of the triangle: \" + triangleArea(2,2,2));"
   ]
  },
  {
   "cell_type": "markdown",
   "id": "a5e9cbc4",
   "metadata": {},
   "source": [
    "# Question 4\n",
    "Write a program in C# Sharp to separate odd and even integers in separate arrays."
   ]
  },
  {
   "cell_type": "code",
   "execution_count": 7,
   "id": "1db1bc7c",
   "metadata": {},
   "outputs": [
    {
     "name": "stdout",
     "output_type": "stream",
     "text": [
      "Even Numbers: 2, 4, 6, 8, 10\n",
      "Odd Numbers: 1, 3, 5, 7, 9\n"
     ]
    }
   ],
   "source": [
    "int[] numbers = {1, 2, 3, 4, 5, 6, 7, 8, 9, 10};\n",
    "int[] evenNumbers = new int[numbers.Length];\n",
    "int[] oddNumbers = new int[numbers.Length];\n",
    "int evenIndex = 0;\n",
    "int oddIndex = 0;\n",
    "\n",
    "for (int i = 0; i < numbers.Length; i++)\n",
    "{\n",
    "    if (numbers[i] % 2 == 0)\n",
    "    {\n",
    "        evenNumbers[evenIndex] = numbers[i];\n",
    "        evenIndex++;\n",
    "    }\n",
    "    else\n",
    "    {\n",
    "        oddNumbers[oddIndex] = numbers[i];\n",
    "        oddIndex++;\n",
    "    }\n",
    "}\n",
    "\n",
    "// Resize the evenNumbers and oddNumbers arrays to remove empty elements\n",
    "Array.Resize(ref evenNumbers, evenIndex);\n",
    "Array.Resize(ref oddNumbers, oddIndex);\n",
    "\n",
    "Console.WriteLine(\"Even Numbers: \" + string.Join(\", \", evenNumbers));\n",
    "Console.WriteLine(\"Odd Numbers: \" + string.Join(\", \", oddNumbers));"
   ]
  },
  {
   "cell_type": "markdown",
   "id": "eb9a3608",
   "metadata": {},
   "source": [
    "# Question 5\n",
    "1. Write a function inside(x,y,x1,y1,x2,y2) that returns True or False dependingonwhetherthepoint(x,y)liesintherectanglewithlowerleft corner (x1,y1) and upper right corner (x2,y2)."
   ]
  },
  {
   "cell_type": "code",
   "execution_count": 8,
   "id": "1b365266",
   "metadata": {},
   "outputs": [
    {
     "name": "stdout",
     "output_type": "stream",
     "text": [
      "The point (1,1) lies in rectangle with coordinates (1, 1, 0.3, 0.5, 1.1, 0.7)? False\n",
      "The point (1,1) lies in rectangle with coordinates (1, 1, 0.5, 0.2, 1.1, 2)? True\n"
     ]
    }
   ],
   "source": [
    "bool Inside(double x, double y, double x1, double y1, double x2, double y2) {\n",
    "    // Ensure that x1,y1 are the coordinates of the lower-left corner and x2,y2 are the coordinates of the upper-right corner\n",
    "    if (x1 > x2) {\n",
    "        double temp = x1;\n",
    "        x1 = x2;\n",
    "        x2 = temp;\n",
    "    }\n",
    "    if (y1 > y2) {\n",
    "        double temp = y1;\n",
    "        y1 = y2;\n",
    "        y2 = temp;\n",
    "    }\n",
    "    // Check if the point (x,y) is inside the rectangle\n",
    "    return x >= x1 && x <= x2 && y >= y1 && y <= y2;\n",
    "}\n",
    "\n",
    "Console.WriteLine(\"The point (1,1) lies in rectangle with coordinates (1, 1, 0.3, 0.5, 1.1, 0.7)? \" + Inside(1, 1, 0.3, 0.5, 1.1, 0.7));\n",
    "Console.WriteLine(\"The point (1,1) lies in rectangle with coordinates (1, 1, 0.5, 0.2, 1.1, 2)? \" + Inside(1, 1, 0.5, 0.2, 1.1, 2));\n"
   ]
  },
  {
   "cell_type": "markdown",
   "id": "085f1033",
   "metadata": {},
   "source": [
    "2. Use function inside() from part a. to write an expression that tests whether the point (1,1) lies in both of the following rectangles: one with lower left corner (0.3, 0.5) and upper right corner (1.1, 0.7) and the other with lower left corner (0.5, 0.2) and upper right corner (1.1, 2)."
   ]
  },
  {
   "cell_type": "code",
   "execution_count": 9,
   "id": "a9ad7750",
   "metadata": {},
   "outputs": [
    {
     "name": "stdout",
     "output_type": "stream",
     "text": [
      "The point (1,1) does not lie in both rectangles.\r\n"
     ]
    }
   ],
   "source": [
    "bool Inside(double x, double y, double x1, double y1, double x2, double y2) {\n",
    "    // Ensure that x1,y1 are the coordinates of the lower-left corner and x2,y2 are the coordinates of the upper-right corner\n",
    "    if (x1 > x2) {\n",
    "        double temp = x1;\n",
    "        x1 = x2;\n",
    "        x2 = temp;\n",
    "    }\n",
    "    if (y1 > y2) {\n",
    "        double temp = y1;\n",
    "        y1 = y2;\n",
    "        y2 = temp;\n",
    "    }\n",
    "    // Check if the point (x,y) is inside the rectangle\n",
    "    return x >= x1 && x <= x2 && y >= y1 && y <= y2;\n",
    "}\n",
    "\n",
    "bool test1 = Inside(1, 1, 0.3, 0.5, 1.1, 0.7);\n",
    "bool test2 = Inside(1, 1, 0.5, 0.2, 1.1, 2);\n",
    "\n",
    "if (test1 && test2) {\n",
    "    Console.WriteLine(\"The point (1,1) lies in both rectangles.\");\n",
    "} else {\n",
    "    Console.WriteLine(\"The point (1,1) does not lie in both rectangles.\");\n",
    "}"
   ]
  }
 ],
 "metadata": {
  "kernelspec": {
   "display_name": ".NET (C#)",
   "language": "C#",
   "name": ".net-csharp"
  },
  "language_info": {
   "file_extension": ".cs",
   "mimetype": "text/x-csharp",
   "name": "C#",
   "pygments_lexer": "csharp",
   "version": "11.0"
  }
 },
 "nbformat": 4,
 "nbformat_minor": 5
}
